{
 "cells": [
  {
   "cell_type": "markdown",
   "metadata": {},
   "source": [
    "R Code pulled from https://www.statmethods.net/advgraphs/ggplot2.html"
   ]
  },
  {
   "cell_type": "code",
   "execution_count": 1,
   "metadata": {},
   "outputs": [
    {
     "name": "stderr",
     "output_type": "stream",
     "text": [
      "── Attaching packages ─────────────────────────────────────── tidyverse 1.2.1 ──\n",
      "✔ ggplot2 2.2.1     ✔ purrr   0.2.4\n",
      "✔ tibble  1.4.2     ✔ dplyr   0.7.4\n",
      "✔ tidyr   0.8.0     ✔ stringr 1.2.0\n",
      "✔ readr   1.1.1     ✔ forcats 0.2.0\n",
      "── Conflicts ────────────────────────────────────────── tidyverse_conflicts() ──\n",
      "✖ dplyr::filter() masks stats::filter()\n",
      "✖ dplyr::lag()    masks stats::lag()\n"
     ]
    }
   ],
   "source": [
    "library(tidyverse)  \n",
    "\n",
    "params <- c(\"p_1h\", \"p_10h\", \"p_100h\", \"p_herb\", \"p_1000h\", \"p_ws\", \"p_wd\", \"p_th\", \"p_hh\", \"p_adj\")"
   ]
  },
  {
   "cell_type": "code",
   "execution_count": 2,
   "metadata": {},
   "outputs": [
    {
     "data": {
      "text/html": [
       "<table>\n",
       "<thead><tr><th scope=col>id</th><th scope=col>p_1h</th><th scope=col>p_10h</th><th scope=col>p_100h</th><th scope=col>p_herb</th><th scope=col>p_1000h</th><th scope=col>p_ws</th><th scope=col>p_wd</th><th scope=col>p_th</th><th scope=col>p_hh</th><th scope=col>p_adj</th><th scope=col>runtime</th><th scope=col>maxRSS</th></tr></thead>\n",
       "<tbody>\n",
       "\t<tr><td>1       </td><td>15      </td><td>10      </td><td> 1      </td><td>66      </td><td>84      </td><td>17      </td><td>155     </td><td>48      </td><td>32      </td><td>0.046063</td><td>1157.20 </td><td> 801428 </td></tr>\n",
       "\t<tr><td>2       </td><td>10      </td><td> 2      </td><td>14      </td><td>33      </td><td>89      </td><td>20      </td><td> 17     </td><td>30      </td><td>53      </td><td>0.598361</td><td>1712.82 </td><td>1006216 </td></tr>\n",
       "\t<tr><td>3       </td><td> 3      </td><td>13      </td><td> 4      </td><td>30      </td><td>80      </td><td> 8      </td><td>232     </td><td>49      </td><td>49      </td><td>0.416760</td><td> 138.85 </td><td> 181360 </td></tr>\n",
       "\t<tr><td>4       </td><td> 6      </td><td>14      </td><td>13      </td><td>48      </td><td>69      </td><td>11      </td><td> 70     </td><td>41      </td><td>41      </td><td>1.418043</td><td> 365.20 </td><td> 408428 </td></tr>\n",
       "\t<tr><td>5       </td><td> 3      </td><td> 4      </td><td> 4      </td><td>26      </td><td>88      </td><td> 4      </td><td> 36     </td><td>33      </td><td>45      </td><td>1.612439</td><td>  44.73 </td><td> 108748 </td></tr>\n",
       "\t<tr><td>6       </td><td>13      </td><td> 3      </td><td> 4      </td><td>62      </td><td>77      </td><td> 9      </td><td> 18     </td><td>32      </td><td>85      </td><td>1.266557</td><td>  24.92 </td><td>  77652 </td></tr>\n",
       "</tbody>\n",
       "</table>\n"
      ],
      "text/latex": [
       "\\begin{tabular}{r|lllllllllllll}\n",
       " id & p\\_1h & p\\_10h & p\\_100h & p\\_herb & p\\_1000h & p\\_ws & p\\_wd & p\\_th & p\\_hh & p\\_adj & runtime & maxRSS\\\\\n",
       "\\hline\n",
       "\t 1        & 15       & 10       &  1       & 66       & 84       & 17       & 155      & 48       & 32       & 0.046063 & 1157.20  &  801428 \\\\\n",
       "\t 2        & 10       &  2       & 14       & 33       & 89       & 20       &  17      & 30       & 53       & 0.598361 & 1712.82  & 1006216 \\\\\n",
       "\t 3        &  3       & 13       &  4       & 30       & 80       &  8       & 232      & 49       & 49       & 0.416760 &  138.85  &  181360 \\\\\n",
       "\t 4        &  6       & 14       & 13       & 48       & 69       & 11       &  70      & 41       & 41       & 1.418043 &  365.20  &  408428 \\\\\n",
       "\t 5        &  3       &  4       &  4       & 26       & 88       &  4       &  36      & 33       & 45       & 1.612439 &   44.73  &  108748 \\\\\n",
       "\t 6        & 13       &  3       &  4       & 62       & 77       &  9       &  18      & 32       & 85       & 1.266557 &   24.92  &   77652 \\\\\n",
       "\\end{tabular}\n"
      ],
      "text/markdown": [
       "\n",
       "| id | p_1h | p_10h | p_100h | p_herb | p_1000h | p_ws | p_wd | p_th | p_hh | p_adj | runtime | maxRSS |\n",
       "|---|---|---|---|---|---|---|---|---|---|---|---|---|\n",
       "| 1        | 15       | 10       |  1       | 66       | 84       | 17       | 155      | 48       | 32       | 0.046063 | 1157.20  |  801428  |\n",
       "| 2        | 10       |  2       | 14       | 33       | 89       | 20       |  17      | 30       | 53       | 0.598361 | 1712.82  | 1006216  |\n",
       "| 3        |  3       | 13       |  4       | 30       | 80       |  8       | 232      | 49       | 49       | 0.416760 |  138.85  |  181360  |\n",
       "| 4        |  6       | 14       | 13       | 48       | 69       | 11       |  70      | 41       | 41       | 1.418043 |  365.20  |  408428  |\n",
       "| 5        |  3       |  4       |  4       | 26       | 88       |  4       |  36      | 33       | 45       | 1.612439 |   44.73  |  108748  |\n",
       "| 6        | 13       |  3       |  4       | 62       | 77       |  9       |  18      | 32       | 85       | 1.266557 |   24.92  |   77652  |\n",
       "\n"
      ],
      "text/plain": [
       "  id p_1h p_10h p_100h p_herb p_1000h p_ws p_wd p_th p_hh p_adj    runtime\n",
       "1 1  15   10     1     66     84      17   155  48   32   0.046063 1157.20\n",
       "2 2  10    2    14     33     89      20    17  30   53   0.598361 1712.82\n",
       "3 3   3   13     4     30     80       8   232  49   49   0.416760  138.85\n",
       "4 4   6   14    13     48     69      11    70  41   41   1.418043  365.20\n",
       "5 5   3    4     4     26     88       4    36  33   45   1.612439   44.73\n",
       "6 6  13    3     4     62     77       9    18  32   85   1.266557   24.92\n",
       "  maxRSS \n",
       "1  801428\n",
       "2 1006216\n",
       "3  181360\n",
       "4  408428\n",
       "5  108748\n",
       "6   77652"
      ]
     },
     "metadata": {},
     "output_type": "display_data"
    }
   ],
   "source": [
    "ds <- read.table('https://raw.githubusercontent.com/edigley/spif/master/results/farsite_individuals_runtime_jonquera.txt', header=T)\n",
    "ds <- subset(ds, select=c(\"individual\", paste(\"p\", 0:9, sep=\"\"), \"runtime\", \"maxRSS\"))\n",
    "colnames(ds) <- c(\"id\", params, \"runtime\", \"maxRSS\")\n",
    "head(ds)"
   ]
  },
  {
   "cell_type": "code",
   "execution_count": 3,
   "metadata": {},
   "outputs": [
    {
     "data": {
      "text/html": [
       "<table>\n",
       "<thead><tr><th scope=col>id</th><th scope=col>p_1h</th><th scope=col>p_10h</th><th scope=col>p_100h</th><th scope=col>p_herb</th><th scope=col>p_1000h</th><th scope=col>p_ws</th><th scope=col>p_wd</th><th scope=col>p_th</th><th scope=col>p_hh</th><th scope=col>p_adj</th></tr></thead>\n",
       "<tbody>\n",
       "\t<tr><td>1       </td><td> 2      </td><td> 3      </td><td>12      </td><td>52      </td><td>91      </td><td>16      </td><td>145     </td><td>33      </td><td>61      </td><td>1.718865</td></tr>\n",
       "\t<tr><td>2       </td><td>15      </td><td>10      </td><td> 1      </td><td>66      </td><td>84      </td><td>17      </td><td>155     </td><td>48      </td><td>32      </td><td>0.046063</td></tr>\n",
       "\t<tr><td>3       </td><td>10      </td><td> 2      </td><td>14      </td><td>33      </td><td>89      </td><td>20      </td><td> 17     </td><td>30      </td><td>53      </td><td>0.598361</td></tr>\n",
       "\t<tr><td>4       </td><td> 3      </td><td>13      </td><td> 4      </td><td>30      </td><td>80      </td><td> 8      </td><td>232     </td><td>49      </td><td>49      </td><td>0.416760</td></tr>\n",
       "\t<tr><td>5       </td><td> 6      </td><td>14      </td><td>13      </td><td>48      </td><td>69      </td><td>11      </td><td> 70     </td><td>41      </td><td>41      </td><td>1.418043</td></tr>\n",
       "\t<tr><td>6       </td><td> 3      </td><td> 4      </td><td> 4      </td><td>26      </td><td>88      </td><td> 4      </td><td> 36     </td><td>33      </td><td>45      </td><td>1.612439</td></tr>\n",
       "</tbody>\n",
       "</table>\n"
      ],
      "text/latex": [
       "\\begin{tabular}{r|lllllllllll}\n",
       " id & p\\_1h & p\\_10h & p\\_100h & p\\_herb & p\\_1000h & p\\_ws & p\\_wd & p\\_th & p\\_hh & p\\_adj\\\\\n",
       "\\hline\n",
       "\t 1        &  2       &  3       & 12       & 52       & 91       & 16       & 145      & 33       & 61       & 1.718865\\\\\n",
       "\t 2        & 15       & 10       &  1       & 66       & 84       & 17       & 155      & 48       & 32       & 0.046063\\\\\n",
       "\t 3        & 10       &  2       & 14       & 33       & 89       & 20       &  17      & 30       & 53       & 0.598361\\\\\n",
       "\t 4        &  3       & 13       &  4       & 30       & 80       &  8       & 232      & 49       & 49       & 0.416760\\\\\n",
       "\t 5        &  6       & 14       & 13       & 48       & 69       & 11       &  70      & 41       & 41       & 1.418043\\\\\n",
       "\t 6        &  3       &  4       &  4       & 26       & 88       &  4       &  36      & 33       & 45       & 1.612439\\\\\n",
       "\\end{tabular}\n"
      ],
      "text/markdown": [
       "\n",
       "| id | p_1h | p_10h | p_100h | p_herb | p_1000h | p_ws | p_wd | p_th | p_hh | p_adj |\n",
       "|---|---|---|---|---|---|---|---|---|---|---|\n",
       "| 1        |  2       |  3       | 12       | 52       | 91       | 16       | 145      | 33       | 61       | 1.718865 |\n",
       "| 2        | 15       | 10       |  1       | 66       | 84       | 17       | 155      | 48       | 32       | 0.046063 |\n",
       "| 3        | 10       |  2       | 14       | 33       | 89       | 20       |  17      | 30       | 53       | 0.598361 |\n",
       "| 4        |  3       | 13       |  4       | 30       | 80       |  8       | 232      | 49       | 49       | 0.416760 |\n",
       "| 5        |  6       | 14       | 13       | 48       | 69       | 11       |  70      | 41       | 41       | 1.418043 |\n",
       "| 6        |  3       |  4       |  4       | 26       | 88       |  4       |  36      | 33       | 45       | 1.612439 |\n",
       "\n"
      ],
      "text/plain": [
       "  id p_1h p_10h p_100h p_herb p_1000h p_ws p_wd p_th p_hh p_adj   \n",
       "1 1   2    3    12     52     91      16   145  33   61   1.718865\n",
       "2 2  15   10     1     66     84      17   155  48   32   0.046063\n",
       "3 3  10    2    14     33     89      20    17  30   53   0.598361\n",
       "4 4   3   13     4     30     80       8   232  49   49   0.416760\n",
       "5 5   6   14    13     48     69      11    70  41   41   1.418043\n",
       "6 6   3    4     4     26     88       4    36  33   45   1.612439"
      ]
     },
     "metadata": {},
     "output_type": "display_data"
    }
   ],
   "source": [
    "# loads random individuals data set\n",
    "individualHeader <- c(params, paste(\"p\", seq(11,21), sep=\"\"))\n",
    "individuals<-read.table('https://raw.githubusercontent.com/edigley/spif/master/results/farsite_individuals.txt', skip=1, col.names=individualHeader)\n",
    "individuals <- subset(individuals, select=params)\n",
    "#individuals$id <- seq.int(nrow(individuals))\n",
    "individuals <- tibble::rowid_to_column(individuals, \"id\")\n",
    "head(individuals)"
   ]
  },
  {
   "cell_type": "code",
   "execution_count": 4,
   "metadata": {},
   "outputs": [],
   "source": [
    "# generates the multiple linear regression model based on individuals run results\n",
    "model <- lm(runtime ~ p_1h + p_10h+ p_100h + p_herb + p_1000h + p_ws + p_wd + p_th + p_hh + p_adj, data=ds)\n"
   ]
  },
  {
   "cell_type": "code",
   "execution_count": 5,
   "metadata": {},
   "outputs": [
    {
     "data": {
      "text/html": [
       "<table>\n",
       "<thead><tr><th></th><th scope=col>Estimate</th><th scope=col>Std. Error</th><th scope=col>t value</th><th scope=col>Pr(&gt;|t|)</th></tr></thead>\n",
       "<tbody>\n",
       "\t<tr><th scope=row>(Intercept)</th><td>1066.5290498 </td><td>234.7946849  </td><td>  4.5423901  </td><td> 6.283735e-06</td></tr>\n",
       "\t<tr><th scope=row>p_1h</th><td>  -5.2205512 </td><td>  4.7175502  </td><td> -1.1066233  </td><td> 2.687393e-01</td></tr>\n",
       "\t<tr><th scope=row>p_10h</th><td> -29.8225067 </td><td>  4.8735806  </td><td> -6.1192190  </td><td> 1.377548e-09</td></tr>\n",
       "\t<tr><th scope=row>p_100h</th><td>   8.8115581 </td><td>  4.6091873  </td><td>  1.9117379  </td><td> 5.621297e-02</td></tr>\n",
       "\t<tr><th scope=row>p_herb</th><td>  -1.1217462 </td><td>  1.3329475  </td><td> -0.8415532  </td><td> 4.002517e-01</td></tr>\n",
       "\t<tr><th scope=row>p_1000h</th><td>   0.7347450 </td><td>  1.6905287  </td><td>  0.4346244  </td><td> 6.639346e-01</td></tr>\n",
       "\t<tr><th scope=row>p_ws</th><td>  87.4010749 </td><td>  3.2665835  </td><td> 26.7561125  </td><td>9.201122e-118</td></tr>\n",
       "\t<tr><th scope=row>p_wd</th><td>   0.2408838 </td><td>  0.1858225  </td><td>  1.2963113  </td><td> 1.951858e-01</td></tr>\n",
       "\t<tr><th scope=row>p_th</th><td>   2.2370761 </td><td>  3.4039716  </td><td>  0.6571959  </td><td> 5.112155e-01</td></tr>\n",
       "\t<tr><th scope=row>p_hh</th><td> -22.6619481 </td><td>  0.9586686  </td><td>-23.6389805  </td><td> 2.281896e-97</td></tr>\n",
       "\t<tr><th scope=row>p_adj</th><td> -36.4179944 </td><td> 35.3428895  </td><td> -1.0304193  </td><td> 3.030777e-01</td></tr>\n",
       "</tbody>\n",
       "</table>\n"
      ],
      "text/latex": [
       "\\begin{tabular}{r|llll}\n",
       "  & Estimate & Std. Error & t value & Pr(>\\textbar{}t\\textbar{})\\\\\n",
       "\\hline\n",
       "\t(Intercept) & 1066.5290498  & 234.7946849   &   4.5423901   &  6.283735e-06\\\\\n",
       "\tp\\_1h &   -5.2205512  &   4.7175502   &  -1.1066233   &  2.687393e-01\\\\\n",
       "\tp\\_10h &  -29.8225067  &   4.8735806   &  -6.1192190   &  1.377548e-09\\\\\n",
       "\tp\\_100h &    8.8115581  &   4.6091873   &   1.9117379   &  5.621297e-02\\\\\n",
       "\tp\\_herb &   -1.1217462  &   1.3329475   &  -0.8415532   &  4.002517e-01\\\\\n",
       "\tp\\_1000h &    0.7347450  &   1.6905287   &   0.4346244   &  6.639346e-01\\\\\n",
       "\tp\\_ws &   87.4010749  &   3.2665835   &  26.7561125   & 9.201122e-118\\\\\n",
       "\tp\\_wd &    0.2408838  &   0.1858225   &   1.2963113   &  1.951858e-01\\\\\n",
       "\tp\\_th &    2.2370761  &   3.4039716   &   0.6571959   &  5.112155e-01\\\\\n",
       "\tp\\_hh &  -22.6619481  &   0.9586686   & -23.6389805   &  2.281896e-97\\\\\n",
       "\tp\\_adj &  -36.4179944  &  35.3428895   &  -1.0304193   &  3.030777e-01\\\\\n",
       "\\end{tabular}\n"
      ],
      "text/markdown": [
       "\n",
       "| <!--/--> | Estimate | Std. Error | t value | Pr(>|t|) |\n",
       "|---|---|---|---|---|\n",
       "| (Intercept) | 1066.5290498  | 234.7946849   |   4.5423901   |  6.283735e-06 |\n",
       "| p_1h |   -5.2205512  |   4.7175502   |  -1.1066233   |  2.687393e-01 |\n",
       "| p_10h |  -29.8225067  |   4.8735806   |  -6.1192190   |  1.377548e-09 |\n",
       "| p_100h |    8.8115581  |   4.6091873   |   1.9117379   |  5.621297e-02 |\n",
       "| p_herb |   -1.1217462  |   1.3329475   |  -0.8415532   |  4.002517e-01 |\n",
       "| p_1000h |    0.7347450  |   1.6905287   |   0.4346244   |  6.639346e-01 |\n",
       "| p_ws |   87.4010749  |   3.2665835   |  26.7561125   | 9.201122e-118 |\n",
       "| p_wd |    0.2408838  |   0.1858225   |   1.2963113   |  1.951858e-01 |\n",
       "| p_th |    2.2370761  |   3.4039716   |   0.6571959   |  5.112155e-01 |\n",
       "| p_hh |  -22.6619481  |   0.9586686   | -23.6389805   |  2.281896e-97 |\n",
       "| p_adj |  -36.4179944  |  35.3428895   |  -1.0304193   |  3.030777e-01 |\n",
       "\n"
      ],
      "text/plain": [
       "            Estimate     Std. Error  t value     Pr(>|t|)     \n",
       "(Intercept) 1066.5290498 234.7946849   4.5423901  6.283735e-06\n",
       "p_1h          -5.2205512   4.7175502  -1.1066233  2.687393e-01\n",
       "p_10h        -29.8225067   4.8735806  -6.1192190  1.377548e-09\n",
       "p_100h         8.8115581   4.6091873   1.9117379  5.621297e-02\n",
       "p_herb        -1.1217462   1.3329475  -0.8415532  4.002517e-01\n",
       "p_1000h        0.7347450   1.6905287   0.4346244  6.639346e-01\n",
       "p_ws          87.4010749   3.2665835  26.7561125 9.201122e-118\n",
       "p_wd           0.2408838   0.1858225   1.2963113  1.951858e-01\n",
       "p_th           2.2370761   3.4039716   0.6571959  5.112155e-01\n",
       "p_hh         -22.6619481   0.9586686 -23.6389805  2.281896e-97\n",
       "p_adj        -36.4179944  35.3428895  -1.0304193  3.030777e-01"
      ]
     },
     "metadata": {},
     "output_type": "display_data"
    }
   ],
   "source": [
    "summary(model)$coefficient "
   ]
  },
  {
   "cell_type": "code",
   "execution_count": 8,
   "metadata": {},
   "outputs": [
    {
     "data": {
      "text/html": [
       "<dl class=dl-horizontal>\n",
       "\t<dt>9991</dt>\n",
       "\t\t<dd>280.148600329198</dd>\n",
       "\t<dt>9992</dt>\n",
       "\t\t<dd>182.497611542032</dd>\n",
       "\t<dt>9993</dt>\n",
       "\t\t<dd>323.414346989752</dd>\n",
       "\t<dt>9994</dt>\n",
       "\t\t<dd>442.633464982718</dd>\n",
       "\t<dt>9995</dt>\n",
       "\t\t<dd>441.995032001675</dd>\n",
       "\t<dt>9996</dt>\n",
       "\t\t<dd>713.395297971672</dd>\n",
       "\t<dt>9997</dt>\n",
       "\t\t<dd>605.821404366603</dd>\n",
       "\t<dt>9998</dt>\n",
       "\t\t<dd>1523.9211762348</dd>\n",
       "\t<dt>9999</dt>\n",
       "\t\t<dd>932.250824581171</dd>\n",
       "\t<dt>10000</dt>\n",
       "\t\t<dd>1117.58232342805</dd>\n",
       "</dl>\n"
      ],
      "text/latex": [
       "\\begin{description*}\n",
       "\\item[9991] 280.148600329198\n",
       "\\item[9992] 182.497611542032\n",
       "\\item[9993] 323.414346989752\n",
       "\\item[9994] 442.633464982718\n",
       "\\item[9995] 441.995032001675\n",
       "\\item[9996] 713.395297971672\n",
       "\\item[9997] 605.821404366603\n",
       "\\item[9998] 1523.9211762348\n",
       "\\item[9999] 932.250824581171\n",
       "\\item[10000] 1117.58232342805\n",
       "\\end{description*}\n"
      ],
      "text/markdown": [
       "9991\n",
       ":   280.1486003291989992\n",
       ":   182.4976115420329993\n",
       ":   323.4143469897529994\n",
       ":   442.6334649827189995\n",
       ":   441.9950320016759996\n",
       ":   713.3952979716729997\n",
       ":   605.8214043666039998\n",
       ":   1523.92117623489999\n",
       ":   932.25082458117110000\n",
       ":   1117.58232342805\n",
       "\n"
      ],
      "text/plain": [
       "     9991      9992      9993      9994      9995      9996      9997      9998 \n",
       " 280.1486  182.4976  323.4143  442.6335  441.9950  713.3953  605.8214 1523.9212 \n",
       "     9999     10000 \n",
       " 932.2508 1117.5823 "
      ]
     },
     "metadata": {},
     "output_type": "display_data"
    }
   ],
   "source": [
    "predict(model, tail(individuals, 10))"
   ]
  }
 ],
 "metadata": {
  "kernelspec": {
   "display_name": "R",
   "language": "R",
   "name": "ir"
  },
  "language_info": {
   "codemirror_mode": "r",
   "file_extension": ".r",
   "mimetype": "text/x-r-source",
   "name": "R",
   "pygments_lexer": "r",
   "version": "3.4.4"
  }
 },
 "nbformat": 4,
 "nbformat_minor": 2
}
