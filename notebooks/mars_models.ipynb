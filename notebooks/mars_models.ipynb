{
 "cells": [
  {
   "cell_type": "code",
   "execution_count": null,
   "metadata": {},
   "outputs": [],
   "source": [
    "library(rsample)   # data splitting \n",
    "library(ggplot2)   # plotting\n",
    "library(earth)     # fit MARS models\n",
    "library(caret)     # automating the tuning process\n",
    "library(vip)       # variable importance\n",
    "library(pdp)       # variable relationships\n",
    "library(plot3D)\n",
    "library(\"AmesHousing\")\n",
    "library(\"pls\")\n",
    "library(\"glmnet\")\n",
    "library(\"kableExtra\")"
   ]
  },
  {
   "cell_type": "code",
   "execution_count": null,
   "metadata": {},
   "outputs": [],
   "source": [
    "# loads individuals run results data set\n",
    "results <- read.table('https://raw.githubusercontent.com/edigley/spif/master/results/farsite_individuals_runtime_jonquera.txt', header=T)\n",
    "ds <- subset(results, select=c(paste(\"p\", 0:9, sep=\"\"), \"runtime\", \"maxRSS\"))\n",
    "\n",
    "# extract only the main features\n",
    "params <- c(\"p_1h\", \"p_10h\", \"p_100h\", \"p_herb\", \"p_1000h\", \"p_ws\", \"p_wd\", \"p_th\", \"p_hh\", \"p_adj\")\n",
    "colnames(ds) <- c(params, \"runtime\", \"maxRSS\")"
   ]
  },
  {
   "cell_type": "code",
   "execution_count": null,
   "metadata": {
    "scrolled": false
   },
   "outputs": [],
   "source": [
    "# generates a model for individuals' runtime\n",
    "dsRuntime <- subset(ds, select=c(params, \"runtime\"))\n",
    "\n",
    "set.seed(1984)\n",
    "dsRuntime_split <- initial_split(dsRuntime, prop = .9, strata = \"runtime\")\n",
    "dsRuntime_train <- training(dsRuntime_split)\n",
    "dsRuntime_test  <- testing(dsRuntime_split)\n",
    "hyper_grid <- expand.grid(\n",
    "  degree = 1:5, \n",
    "  nprune = seq(1, 20, length.out = 20) %>% floor()\n",
    ")\n",
    "marsRuntime <- train(\n",
    "  x = subset(dsRuntime_train, select = -runtime),\n",
    "  y = dsRuntime_train$runtime,\n",
    "  method = \"earth\",\n",
    "  metric = \"RMSE\",\n",
    "  trControl = trainControl(method = \"cv\", number = 10),\n",
    "  tuneGrid = hyper_grid\n",
    ")\n",
    "marsRuntime$bestTune\n",
    "marsRuntime$finalModel\n",
    "summary(marsRuntime)\n",
    "ggplot(marsRuntime)"
   ]
  },
  {
   "cell_type": "code",
   "execution_count": null,
   "metadata": {
    "scrolled": false
   },
   "outputs": [],
   "source": [
    "# generates a model for individuals memory's Resident Set Size (RSS)\n",
    "dsMaxRSS <- subset(ds, select=c(params, \"maxRSS\"))\n",
    "\n",
    "set.seed(7303)\n",
    "dsMaxRSS_split <- initial_split(dsMaxRSS, prop = .9, strata = \"maxRSS\")\n",
    "dsMaxRSS_train <- training(dsMaxRSS_split)\n",
    "dsMaxRSS_test  <- testing(dsMaxRSS_split)\n",
    "hyper_grid <- expand.grid(\n",
    "  degree = 1:5, \n",
    "  nprune = seq(1, 20, length.out = 20) %>% floor()\n",
    ")\n",
    "marsMaxRSS <- train(\n",
    "  x = subset(dsMaxRSS_train, select = -maxRSS),\n",
    "  y = dsMaxRSS_train$maxRSS,\n",
    "  method = \"earth\",\n",
    "  metric = \"RMSE\",\n",
    "  trControl = trainControl(method = \"cv\", number = 10),\n",
    "  tuneGrid = hyper_grid\n",
    ")\n",
    "marsMaxRSS$bestTune\n",
    "marsMaxRSS$finalModel\n",
    "summary(marsMaxRSS)\n",
    "ggplot(marsMaxRSS)"
   ]
  },
  {
   "cell_type": "code",
   "execution_count": null,
   "metadata": {
    "scrolled": true
   },
   "outputs": [],
   "source": [
    "plot(residuals(marsRuntime), pch=\".\")\n",
    "plot(residuals(marsMaxRSS),  pch=\".\")"
   ]
  },
  {
   "cell_type": "code",
   "execution_count": null,
   "metadata": {
    "scrolled": false
   },
   "outputs": [],
   "source": [
    "p1 <- partial(marsRuntime, pred.var = \"p_ws\", grid.resolution = 10) %>% autoplot()\n",
    "p2 <- partial(marsRuntime, pred.var = \"p_hh\", grid.resolution = 10) %>% autoplot()\n",
    "gridExtra::grid.arrange(p1, p2, ncol = 2)\n",
    "partial(marsRuntime, pred.var = c(\"p_ws\", \"p_hh\"), grid.resolution = 25) %>% \n",
    "  plotPartial(levelplot = FALSE, zlab = \"runtime_hat\", drape = TRUE, colorkey = TRUE, screen = list(z = 100, x = -60))"
   ]
  },
  {
   "cell_type": "code",
   "execution_count": null,
   "metadata": {},
   "outputs": [],
   "source": [
    "p1 <- partial(marsMaxRSS, pred.var = \"p_ws\", grid.resolution = 10) %>% autoplot()\n",
    "p2 <- partial(marsMaxRSS, pred.var = \"p_hh\", grid.resolution = 10) %>% autoplot()\n",
    "gridExtra::grid.arrange(p1, p2, ncol = 2)\n",
    "partial(marsMaxRSS, pred.var = c(\"p_ws\", \"p_hh\"), grid.resolution = 25) %>% \n",
    "  plotPartial(levelplot = FALSE, zlab = \"runtime_hat\", drape = TRUE, colorkey = TRUE, screen = list(z = 100, x = -60))"
   ]
  }
 ],
 "metadata": {
  "kernelspec": {
   "display_name": "R",
   "language": "R",
   "name": "ir"
  },
  "language_info": {
   "codemirror_mode": "r",
   "file_extension": ".r",
   "mimetype": "text/x-r-source",
   "name": "R",
   "pygments_lexer": "r",
   "version": "3.4.4"
  }
 },
 "nbformat": 4,
 "nbformat_minor": 2
}
