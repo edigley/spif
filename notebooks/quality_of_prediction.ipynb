{
 "cells": [
  {
   "cell_type": "code",
   "execution_count": 1,
   "metadata": {},
   "outputs": [],
   "source": [
    "library(tidyverse)\n",
    "library(tidyr)\n",
    "library(ggplot2)\n",
    "library(GGally)\n",
    "library(caret)\n",
    "\n",
    "set.seed(1984)"
   ]
  },
  {
   "cell_type": "code",
   "execution_count": 2,
   "metadata": {},
   "outputs": [],
   "source": [
    "params <- c(\"p_1h\", \"p_10h\", \"p_100h\", \"p_herb\", \"p_1000h\", \"p_ws\", \"p_wd\", \"p_th\", \"p_hh\", \"p_adj\")\n",
    "# loads random individuals data set\n",
    "individualHeader <- c(params, paste(\"p\", seq(11,21), sep=\"\"))\n",
    "individuals <- read.table('https://raw.githubusercontent.com/edigley/spif/master/results/farsite_individuals.txt', skip=1, col.names=individualHeader)\n",
    "individuals <- subset(individuals, select=params)\n",
    "individuals <- tibble::rowid_to_column(individuals, \"id\")\n",
    "individuals$id <- (individuals$id - 1)"
   ]
  },
  {
   "cell_type": "code",
   "execution_count": 3,
   "metadata": {},
   "outputs": [],
   "source": [
    "# plots a violin-like plot showing how gene values are distributed\n",
    "fmsColor <- \"red\";\n",
    "windColor <- \"green\";\n",
    "weatherColor <- \"#e69f00\";\n",
    "individuals.long <- gather(individuals, param, value, params, factor_key=TRUE)\n",
    "p <- ggplot(individuals.long, aes(x=param, y=value, fill=param)) + geom_violin() # geom_boxplot() + geom_jitter()\n",
    "p + scale_fill_manual(values=c(fmsColor, fmsColor, fmsColor, fmsColor, \"grey\", windColor, windColor, weatherColor, weatherColor,\"grey\")) + coord_cartesian(ylim = c(0, 120))"
   ]
  },
  {
   "cell_type": "code",
   "execution_count": 4,
   "metadata": {},
   "outputs": [],
   "source": [
    "# loads individuals run results data set\n",
    "individualsResults <- read.table('https://raw.githubusercontent.com/edigley/spif/master/results/farsite_individuals_runtime_jonquera.txt', header=T)\n",
    "individualsResults <- subset(individualsResults, select=c(\"individual\", paste(\"p\", 0:9, sep=\"\"), \"runtime\", \"maxRSS\"))\n",
    "colnames(individualsResults) <- c(\"id\", params, \"runtime\", \"maxRSS\")"
   ]
  },
  {
   "cell_type": "code",
   "execution_count": 5,
   "metadata": {},
   "outputs": [],
   "source": [
    "# generates the multiple linear regression model for runtime based on individuals run results\n",
    "runtimeModel <- lm(runtime ~ p_1h + p_10h + p_100h + p_herb + p_1000h + p_ws + p_wd + p_th + p_hh + p_adj, data=individualsResults)\n",
    "summary(runtimeModel)$coefficient "
   ]
  },
  {
   "cell_type": "code",
   "execution_count": 6,
   "metadata": {},
   "outputs": [],
   "source": [
    "# analyses the quality of the prediction\n",
    "ds <- individualsResults\n",
    "ds$prediction <- predict(runtimeModel, head(individuals, 1001))\n",
    "ds$prediction <- ifelse(ds$prediction<1, 1, ds$prediction)\n",
    "plot(ds$prediction, ds$runtime, xlab=\"predicted\", ylab=\"actual\", xlim=c(0,3600), ylim=c(0,3600))\n",
    "abline(a=0, b=1)"
   ]
  },
  {
   "cell_type": "code",
   "execution_count": 8,
   "metadata": {},
   "outputs": [],
   "source": [
    "qqplot(ds$prediction, ds$runtime)\n",
    "abline(a=0, b=1)"
   ]
  },
  {
   "cell_type": "code",
   "execution_count": 15,
   "metadata": {},
   "outputs": [],
   "source": [
    "qqnorm(residuals(runtimeModel))\n",
    "abline(a=0, b=1)"
   ]
  },
  {
   "cell_type": "code",
   "execution_count": null,
   "metadata": {},
   "outputs": [],
   "source": []
  }
 ],
 "metadata": {
  "kernelspec": {
   "display_name": "R",
   "language": "R",
   "name": "ir"
  },
  "language_info": {
   "codemirror_mode": "r",
   "file_extension": ".r",
   "mimetype": "text/x-r-source",
   "name": "R",
   "pygments_lexer": "r",
   "version": "3.4.4"
  }
 },
 "nbformat": 4,
 "nbformat_minor": 2
}
